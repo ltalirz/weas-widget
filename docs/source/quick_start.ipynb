{
 "cells": [
  {
   "cell_type": "markdown",
   "id": "22d177dc-6cfb-4de2-9509-f1eb45e10cf2",
   "metadata": {},
   "source": [
    "# Quick Start"
   ]
  },
  {
   "cell_type": "markdown",
   "id": "58696c91",
   "metadata": {},
   "source": [
    "## Introduction\n",
    "In this tutorial, you will get a quick view of `weas-widget`. To run this tutorial, you need to install `weas-widget`. Open a terminal and run:\n",
    "\n",
    "```console\n",
    "pip install weas-widget\n",
    "```\n"
   ]
  },
  {
   "cell_type": "code",
   "execution_count": 4,
   "id": "4258108d",
   "metadata": {},
   "outputs": [
    {
     "data": {
      "application/vnd.jupyter.widget-view+json": {
       "model_id": "cde9e4fdde5543a6aa53815a6bafb268",
       "version_major": 2,
       "version_minor": 0
      },
      "text/plain": [
       "WeasWidget(atoms={'species': {'S': ['S', 16], 'O': ['O', 8], 'C': ['C', 6], 'H': ['H', 1]}, 'cell': [0.0, 0.0,…"
      ]
     },
     "execution_count": 4,
     "metadata": {},
     "output_type": "execute_result"
    }
   ],
   "source": [
    "from weas_widget import WeasWidget, show_ase\n",
    "from ase.build import molecule\n",
    "atoms = molecule(\"C2H6SO\")\n",
    "viewer = show_ase(atoms)\n",
    "viewer\n"
   ]
  },
  {
   "cell_type": "code",
   "execution_count": null,
   "id": "ae4225f2",
   "metadata": {},
   "outputs": [],
   "source": []
  }
 ],
 "metadata": {
  "kernelspec": {
   "display_name": "Python 3.10.4 ('scinode')",
   "language": "python",
   "name": "python3"
  },
  "language_info": {
   "codemirror_mode": {
    "name": "ipython",
    "version": 3
   },
   "file_extension": ".py",
   "mimetype": "text/x-python",
   "name": "python",
   "nbconvert_exporter": "python",
   "pygments_lexer": "ipython3",
   "version": "3.11.5"
  },
  "vscode": {
   "interpreter": {
    "hash": "2f450c1ff08798c4974437dd057310afef0de414c25d1fd960ad375311c3f6ff"
   }
  }
 },
 "nbformat": 4,
 "nbformat_minor": 5
}
